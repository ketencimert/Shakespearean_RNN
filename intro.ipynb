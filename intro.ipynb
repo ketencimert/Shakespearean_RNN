{
 "cells": [
  {
   "cell_type": "markdown",
   "metadata": {},
   "source": [
    "# Recurrent Neural Networks\n",
    "\n",
    "In this assignment, you will experiment with recurrent neural network(RNN).\n",
    "\n",
    "### Task 1: XOR net\n",
    "\n",
    "Create a RNN network which can correctly compute the XOR operation.\n",
    "\n",
    "### Task 2: RNN Application - Char-RNN\n",
    "\n",
    "In this task, we will implement a very simple application of RNN. Char-RNN is a multi-layer Recurrent Neural Network (RNN, LSTM, and GRU) for training/sampling from character-level language models. In this task, you will learn how to build rnn network and some tricks to help better train it."
   ]
  }
 ],
 "metadata": {
  "anaconda-cloud": {},
  "kernelspec": {
   "display_name": "Python 3",
   "language": "python",
   "name": "python3"
  },
  "language_info": {
   "codemirror_mode": {
    "name": "ipython",
    "version": 3
   },
   "file_extension": ".py",
   "mimetype": "text/x-python",
   "name": "python",
   "nbconvert_exporter": "python",
   "pygments_lexer": "ipython3",
   "version": "3.7.3"
  }
 },
 "nbformat": 4,
 "nbformat_minor": 2
}
