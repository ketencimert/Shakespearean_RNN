{
 "cells": [
  {
   "cell_type": "markdown",
   "metadata": {},
   "source": [
    "# Char-RNN"
   ]
  },
  {
   "cell_type": "markdown",
   "metadata": {},
   "source": [
    "Char-RNN implements multi-layer Recurrent Neural Network (RNN, LSTM, and GRU) for training/sampling from character-level language models. In other words the model takes one text file as input and trains a Recurrent Neural Network that learns to predict the next character in a sequence. The RNN can then be used to generate text character by character that will look like the original training data. This network is first posted by Andrej Karpathy, you can find out about his original code on https://github.com/karpathy/char-rnn, the original code is written in *lua*."
   ]
  },
  {
   "cell_type": "markdown",
   "metadata": {},
   "source": [
    "Here we will implement Char-RNN using Tensorflow!"
   ]
  },
  {
   "cell_type": "code",
   "execution_count": 1,
   "metadata": {},
   "outputs": [],
   "source": [
    "import time\n",
    "import numpy as np\n",
    "import tensorflow as tf\n",
    "\n",
    "# Notebook auto reloads code. (Ref: http://stackoverflow.com/questions/1907993/autoreload-of-modules-in-ipython)\n",
    "%load_ext autoreload\n",
    "%autoreload 2"
   ]
  },
  {
   "cell_type": "markdown",
   "metadata": {},
   "source": [
    "## Part 1: Setup\n",
    "In this part, we will read the data of our input text and process the text for later network training. There are two txt files in the data folder, for computing time consideration, we will use tinyshakespeare.txt here."
   ]
  },
  {
   "cell_type": "code",
   "execution_count": 2,
   "metadata": {},
   "outputs": [
    {
     "name": "stdout",
     "output_type": "stream",
     "text": [
      "Length of text: 1115394 characters\n",
      "First Citizen:\n",
      "Before we proceed any further, hear me speak.\n",
      "\n",
      "All:\n",
      "Speak, speak.\n",
      "\n",
      "First Citizen:\n",
      "You are all resolved rather to die than to famish?\n",
      "\n",
      "All:\n",
      "Resolved. resolved.\n",
      "\n",
      "First Citizen:\n",
      "First, you know Caius Marcius is chief enemy to the people.\n",
      "\n",
      "All:\n",
      "We know't, we know't.\n",
      "\n",
      "First Citizen:\n",
      "Let us kill him, and we'll have corn at our own price.\n",
      "Is't a verdict?\n",
      "\n",
      "All:\n",
      "No more talking on't; let it be done: away, away!\n",
      "\n",
      "Second Citizen:\n",
      "One word, good citizens.\n",
      "\n",
      "First Citizen:\n",
      "We are accounted poor\n"
     ]
    }
   ],
   "source": [
    "with open('data/tinyshakespeare.txt', 'r') as f:\n",
    "    text=f.read()\n",
    "# length of text is the number of characters in it\n",
    "print('Length of text: {} characters'.format(len(text)))\n",
    "# and let's get a glance of what the text is\n",
    "print(text[:500])"
   ]
  },
  {
   "cell_type": "code",
   "execution_count": 3,
   "metadata": {},
   "outputs": [
    {
     "name": "stdout",
     "output_type": "stream",
     "text": [
      "65 unique characters\n"
     ]
    }
   ],
   "source": [
    "# The unique characters in the file\n",
    "vocab = sorted(set(text))\n",
    "print ('{} unique characters'.format(len(vocab)))"
   ]
  },
  {
   "cell_type": "code",
   "execution_count": 4,
   "metadata": {},
   "outputs": [
    {
     "name": "stdout",
     "output_type": "stream",
     "text": [
      "'\\n'   --->    0\n",
      "' '    --->    1\n",
      "'!'    --->    2\n",
      "'$'    --->    3\n",
      "'&'    --->    4\n",
      "\"'\"    --->    5\n",
      "','    --->    6\n",
      "'-'    --->    7\n",
      "'.'    --->    8\n",
      "'3'    --->    9\n",
      "':'    --->   10\n",
      "';'    --->   11\n",
      "'?'    --->   12\n",
      "'A'    --->   13\n",
      "'B'    --->   14\n",
      "'C'    --->   15\n",
      "'D'    --->   16\n",
      "'E'    --->   17\n",
      "'F'    --->   18\n",
      "'G'    --->   19\n",
      "First Citi --- characters mapped to int --- > [18 47 56 57 58  1 15 47 58 47]\n"
     ]
    }
   ],
   "source": [
    "# Creating a mapping from unique characters to indices\n",
    "vocab_to_ind = {c: i for i, c in enumerate(vocab)}\n",
    "ind_to_vocab = dict(enumerate(vocab))\n",
    "text_as_int = np.array([vocab_to_ind[c] for c in text], dtype=np.int32)\n",
    "\n",
    "# We mapped the character as indexes from 0 to len(vocab)\n",
    "for char,_ in zip(vocab_to_ind, range(20)):\n",
    "    print('{:6s} ---> {:4d}'.format(repr(char), vocab_to_ind[char]))\n",
    "# Show how the first 10 characters from the text are mapped to integers\n",
    "print ('{} --- characters mapped to int --- > {}'.format(text[:10], text_as_int[:10]))"
   ]
  },
  {
   "cell_type": "markdown",
   "metadata": {},
   "source": [
    "## Part 2: Creating batches\n",
    "Now that we have preprocessed our input data, we then need to partition our data, here we will use mini-batches to train our model, so how will we define our batches?\n",
    "\n",
    "Let's first clarify the concepts of batches:\n",
    "1. **batch_size**: Reviewing batches in CNN, if we have 100 samples and we set batch_size as 10, it means that we will send 10 samples to the network at one time. In RNN, batch_size have the same meaning, it defines how many samples we send to the network at one time.\n",
    "2. **sequence_length**: However, as for RNN, we store memory in our cells, we pass the information through cells, so we have this sequence_length concept, which also called 'steps', it defines how long a sequence is.\n",
    "\n",
    "From above two concepts, we here clarify the meaning of batch_size in RNN. Here, we define the number of sequences in a batch as N and the length of each sequence as M, so batch_size in RNN **still** represent the number of sequences in a batch but the data size of a batch is actually an array of size **[N, M]**."
   ]
  },
  {
   "cell_type": "markdown",
   "metadata": {},
   "source": [
    "<span style=\"color:red\">TODO:</span>\n",
    "finish the get_batches() function below to generate mini-batches.\n",
    "\n",
    "Hint: this function defines a generator, use *yield*."
   ]
  },
  {
   "cell_type": "code",
   "execution_count": 5,
   "metadata": {},
   "outputs": [],
   "source": [
    "import random\n",
    "def get_batches(array, n_seqs, n_steps):\n",
    "    '''\n",
    "    Partition data array into mini-batches\n",
    "    input:\n",
    "    array: input data\n",
    "    n_seqs: number of sequences in a batch\n",
    "    n_steps: length of each sequence\n",
    "    output:\n",
    "    x: inputs\n",
    "    y: targets, which is x with one position shift\n",
    "       you can check the following figure to get the sence of what a target looks like\n",
    "    '''\n",
    "    # You should now create a loop to generate batches for inputs and targets\n",
    "    #############################################\n",
    "    #           TODO: YOUR CODE HERE            #\n",
    "    #############################################\n",
    "    while True:\n",
    "        n_seqs = n_seqs\n",
    "        n_steps = n_steps\n",
    "        X_batch = []\n",
    "        y_batch = []\n",
    "        array_re=array.reshape(1,array.shape[0])\n",
    "        for i in range(0,n_seqs):\n",
    "            start =  int(random.uniform(0, array.shape[0]-n_steps))\n",
    "            end = int(start+n_steps)\n",
    "            X_batch.append(array_re[0,start:end]) \n",
    "            y_batch.append(array_re[0,start+1:end+1])\n",
    "        X_batch = np.asarray(X_batch)\n",
    "        y_batch = np.asarray(y_batch)\n",
    "        yield X_batch, y_batch"
   ]
  },
  {
   "cell_type": "code",
   "execution_count": 6,
   "metadata": {},
   "outputs": [
    {
     "name": "stdout",
     "output_type": "stream",
     "text": [
      "x\n",
      " [[44  1 46 47 57  1 54 56 47 52]\n",
      " [30 37  1 34 21 10  0  0 37 27]\n",
      " [53 58 46 43 56  1 52 53 58  1]\n",
      " [47 52  1 42 56 43 45 57  1 53]\n",
      " [61  8  1 35 43  1 46 39 60 43]\n",
      " [47 52 45  1 46 43 56  1 50 43]\n",
      " [51 39 52  5 57  0 39 54 54 39]\n",
      " [47 50 50  1 63 53 59  1 45 47]\n",
      " [ 1 44 39 58 46 43 56 12  0  0]\n",
      " [46 53 57 43  1 43 63 43 57  1]]\n",
      "\n",
      "y\n",
      " [[ 1 46 47 57  1 54 56 47 52 41]\n",
      " [37  1 34 21 10  0  0 37 27 30]\n",
      " [58 46 43 56  1 52 53 58  1 39]\n",
      " [52  1 42 56 43 45 57  1 53 44]\n",
      " [ 8  1 35 43  1 46 39 60 43  1]\n",
      " [52 45  1 46 43 56  1 50 43 45]\n",
      " [39 52  5 57  0 39 54 54 39 56]\n",
      " [50 50  1 63 53 59  1 45 47 60]\n",
      " [44 39 58 46 43 56 12  0  0 22]\n",
      " [53 57 43  1 43 63 43 57  1 57]]\n"
     ]
    }
   ],
   "source": [
    "batches = get_batches(text_as_int, 10, 10)\n",
    "x, y = next(batches)\n",
    "print('x\\n', x[:10, :10])\n",
    "print('\\ny\\n', y[:10, :10])"
   ]
  },
  {
   "cell_type": "markdown",
   "metadata": {},
   "source": [
    "## Part 3: Build Char-RNN model\n",
    "In this section, we will build our char-rnn model, it consists of input layer, rnn_cell layer, output layer, loss and optimizer, we will build them one by one.\n",
    "\n",
    "The goal is to predict new text after given prime word, so for our training data, we have to define inputs and targets, here is a figure that explains the structure of the Char-RNN network.\n",
    "\n",
    "![structure](img/charrnn.jpg)"
   ]
  },
  {
   "cell_type": "markdown",
   "metadata": {},
   "source": [
    "<span style=\"color:red\">TODO:</span>\n",
    "finish all TODOs in ecbm4040.CharRNN and the blanks in the following cells.\n",
    "\n",
    "**Note: The training process on following settings of parameters takes about 20 minutes on a GTX 1070 GPU, so you are suggested to use GCP for this task.**"
   ]
  },
  {
   "cell_type": "code",
   "execution_count": 6,
   "metadata": {},
   "outputs": [],
   "source": [
    "from ecbm4040.CharRNN import *"
   ]
  },
  {
   "cell_type": "markdown",
   "metadata": {},
   "source": [
    "### Training\n",
    "Set sampling as False(default), we can start training the network, we automatically save checkpoints in the folder /checkpoints."
   ]
  },
  {
   "cell_type": "code",
   "execution_count": 8,
   "metadata": {},
   "outputs": [],
   "source": [
    "# these are preset parameters, you can change them to get better result\n",
    "batch_size = 100         # Sequences per batch\n",
    "num_steps = 100          # Number of sequence steps per batch\n",
    "rnn_size = 256           # Size of hidden layers in rnn_cell\n",
    "num_layers = 2           # Number of hidden layers\n",
    "learning_rate = 0.006    # Learning rate"
   ]
  },
  {
   "cell_type": "code",
   "execution_count": 9,
   "metadata": {
    "scrolled": false
   },
   "outputs": [
    {
     "name": "stdout",
     "output_type": "stream",
     "text": [
      "step: 200  loss: 2.5713  0.2236 sec/batch\n",
      "step: 400  loss: 1.9750  0.2216 sec/batch\n",
      "step: 600  loss: 1.7331  0.2266 sec/batch\n",
      "step: 800  loss: 1.5270  0.2256 sec/batch\n",
      "step: 1000  loss: 1.4050  0.2292 sec/batch\n",
      "step: 1200  loss: 1.3278  0.2325 sec/batch\n",
      "step: 1400  loss: 1.2534  0.2322 sec/batch\n",
      "step: 1600  loss: 1.2110  0.2274 sec/batch\n",
      "step: 1800  loss: 1.1421  0.2441 sec/batch\n",
      "step: 2000  loss: 1.1154  0.2292 sec/batch\n",
      "step: 2200  loss: 1.0896  0.2256 sec/batch\n",
      "step: 2400  loss: 1.0586  0.2201 sec/batch\n",
      "step: 2600  loss: 0.9941  0.2407 sec/batch\n",
      "step: 2800  loss: 1.0151  0.2326 sec/batch\n",
      "step: 3000  loss: 0.9704  0.2287 sec/batch\n",
      "step: 3200  loss: 0.9716  0.2292 sec/batch\n",
      "step: 3400  loss: 0.9545  0.2346 sec/batch\n",
      "step: 3600  loss: 0.9270  0.2291 sec/batch\n",
      "step: 3800  loss: 0.8783  0.2303 sec/batch\n",
      "step: 4000  loss: 0.8999  0.2296 sec/batch\n",
      "step: 4200  loss: 0.8528  0.2321 sec/batch\n",
      "step: 4400  loss: 0.8589  0.2316 sec/batch\n",
      "step: 4600  loss: 0.8594  0.2326 sec/batch\n",
      "step: 4800  loss: 0.8416  0.2321 sec/batch\n",
      "step: 5000  loss: 0.8473  0.2348 sec/batch\n",
      "step: 5200  loss: 0.8389  0.2286 sec/batch\n",
      "step: 5400  loss: 0.8396  0.2287 sec/batch\n",
      "step: 5600  loss: 0.8007  0.2276 sec/batch\n",
      "step: 5800  loss: 0.7835  0.2276 sec/batch\n",
      "step: 6000  loss: 0.7983  0.2341 sec/batch\n"
     ]
    }
   ],
   "source": [
    "model = CharRNN(num_classes=len(vocab), batch_size=batch_size, num_steps=num_steps, cell_type='GRU',\n",
    "                 rnn_size=rnn_size, num_layers=num_layers, learning_rate=learning_rate, \n",
    "                 grad_clip=5, train_keep_prob=0.75, sampling=False)\n",
    "text_as_int_cropped = text_as_int[:150000,]\n",
    "batches = get_batches(text_as_int_cropped, batch_size, num_steps)\n",
    "model.train(batches,6000 , 1000)"
   ]
  },
  {
   "cell_type": "code",
   "execution_count": 10,
   "metadata": {},
   "outputs": [
    {
     "data": {
      "text/plain": [
       "model_checkpoint_path: \"checkpoints\\\\i6000_GRU_l256.ckpt\"\n",
       "all_model_checkpoint_paths: \"checkpoints\\\\i2000_GRU_l256.ckpt\"\n",
       "all_model_checkpoint_paths: \"checkpoints\\\\i3000_GRU_l256.ckpt\"\n",
       "all_model_checkpoint_paths: \"checkpoints\\\\i4000_GRU_l256.ckpt\"\n",
       "all_model_checkpoint_paths: \"checkpoints\\\\i5000_GRU_l256.ckpt\"\n",
       "all_model_checkpoint_paths: \"checkpoints\\\\i6000_GRU_l256.ckpt\""
      ]
     },
     "execution_count": 10,
     "metadata": {},
     "output_type": "execute_result"
    }
   ],
   "source": [
    "# look up checkpoints\n",
    "tf.train.get_checkpoint_state('checkpoints')"
   ]
  },
  {
   "cell_type": "markdown",
   "metadata": {},
   "source": [
    "### Sampling\n",
    "Set the sampling as True and we can generate new characters one by one. We can use our saved checkpoints to see how the network learned gradually."
   ]
  },
  {
   "cell_type": "code",
   "execution_count": 11,
   "metadata": {},
   "outputs": [
    {
     "name": "stdout",
     "output_type": "stream",
     "text": [
      "INFO:tensorflow:Restoring parameters from checkpoints\\i6000_GRU_l256.ckpt\n",
      "Lord disposed\n",
      "And carms, alreadven first, we sto, 'em such a part--and\n",
      "dissching but the mighlood, and with\n",
      "most posuch, no.\n",
      "I must do hast not that I am clount,\n",
      "Which should part him to pack the good rouf the world\n",
      "Will not tave him be abong. This call'd mine in's; woulds but but\n",
      "And was a such a bastwn and thus which\n",
      "In alble than a crack'd thus-- he, who, my note, if they\n",
      "Upon of these warn.\n",
      "\n",
      "SICINIUS:\n",
      "Why, thou hast alngething of honour, and so show not meddle; sithe,\n",
      "In banish'd for place, as he was enemy in, he was\n",
      "to call'd to his charge: and his own part,\n",
      "That flatter, and the people bid with good loves,\n",
      "He wants not care what cannot speak.\n",
      "Which has charge this ance?\n",
      "\n",
      "SICINIUS:\n",
      "Why, thou art leadcy,\n",
      "Pray you, come of, and my soldiing his choldeven,\n",
      "And mage have been best have their noble consul!\n",
      "\n",
      "CORIOLANUS:\n",
      "To, I could for weal on eight, ade: who shall lear your harm'd\n",
      "In a mage of it. What's to my with his sweet\n",
      "Which us yet the charge on't.\n",
      "\n",
      "MENENIUS:\n",
      "Thot have the verven a work\n"
     ]
    }
   ],
   "source": [
    "model = CharRNN(num_classes=len(vocab), batch_size=batch_size, num_steps=num_steps, cell_type='GRU',\n",
    "                 rnn_size=rnn_size, num_layers=num_layers, learning_rate=learning_rate, \n",
    "                 grad_clip=5, train_keep_prob=0.5, sampling=True)\n",
    "# choose the last checkpoint and generate new text\n",
    "checkpoint = tf.train.latest_checkpoint('checkpoints')\n",
    "samp = model.sample(checkpoint, 1000, len(vocab), vocab_to_ind, ind_to_vocab, prime=\"Lord \")\n",
    "print(samp)"
   ]
  },
  {
   "cell_type": "code",
   "execution_count": 12,
   "metadata": {},
   "outputs": [
    {
     "name": "stdout",
     "output_type": "stream",
     "text": [
      "INFO:tensorflow:Restoring parameters from checkpoints\\i2000_GRU_l256.ckpt\n",
      "LORD QZKKKKZZKNKZUZZUZKKKZKKU&K&KKZZKNKKKKKKKKKZZKKKKKKKZKZKKKUKUKNKZKUKKU&K&K$KZKKUZKKZKZU&KKKKKKKZZKDKZKKKUKKKKKKZKUZZUKKUKKKDKKKNKKKKKKKKKZKKKUKKNZKKKKUKKUKZKZDKKZKKKKKKKKKKKKUZKUKKKKKKU3KKKKKZZZKKZKNZKKNKUKKKKZKKKKKKKKUZKUKKUKKUKKKKKKKKKUKU&ZUZKKZKKNKKKN&KKNKKKDUKUKKN&KKKKKKDZKUNKKKKKNKKUKKKKK&KKKZKZKZU&ZKUKKZDKKNKKUKKNKKNK&KKZKNKKKK&KKKKKKZN&KKZKKUZKKKZKKKKKKKKKKKNKNKKKKKNKKNKKKNKKKKKKKKKNKKKKKUKKDKKNKN&KKKKU3KKKKKKKKKKKKKKUKKNKKKDZKKNKKKNKNKU&XKZKKUK&KKUKKKNKZKKKNZKKKKKUKZKKKZ&KN&KKKKKKKKKNKKNKKZKKUKZKKKK&KUZKUKUKKKKZKKKKKKKKKK&ZKKKK&KKDKKKKKKKKKNZKKKUKKDKKKKZKKUZKNKKZKKKK&ZKUKKKNKKKKKZDKKKKKNKKKNKDKN3KK&KKKKKNZKKUKKKZKKUKZUKKUKZNKKNKKKUKKKKKKN&ZKKKK&ZKKDKKKKKKUKUKNKKKKKKKNZKKNKKKKKUKKPNKZNKZKKKKKKNKZNKKUKKKKKKKNZKKDKKKKKKKKU&KUKKKKKDZKKUKKKKKKZKKNZKKKKKKKKKKKKUKZKDDKKKKNKKNKKKDKKKDZKKK&KKNKZKUKZNKUKKKKZDKKKKKKKZKKDKKKZKKKKKKKKKKU&ZKKKDKDKDKZKKDKZKKKZKZKKZKZZZZZKKKKKKZKKUKKNK&KPZKKKKKKKUKKUKKZKKU$KKUKZKKDNKKUKKZDK&&&ZKKKKZKKKKZDKKKKKKKKZKDKKKKZ3KKKKKKKZKKKK&ZKKKZKKKKKKKKKKKKKZKKKK$KKKK\n"
     ]
    }
   ],
   "source": [
    "# choose a checkpoint other than the final one and see the results. It could be nasty, don't worry!\n",
    "#############################################\n",
    "#           TODO: YOUR CODE HERE            #\n",
    "#############################################\n",
    "checkpoint = ('checkpoints\\i2000_GRU_l256.ckpt')\n",
    "samp = model.sample(checkpoint, 1000, len(vocab), vocab_to_ind, ind_to_vocab, prime=\"LORD \")\n",
    "print(samp)"
   ]
  },
  {
   "cell_type": "markdown",
   "metadata": {},
   "source": [
    "### Change another type of RNN cell\n",
    "We are using LSTM cell as the original work, but GRU cell is getting more popular today, let's chage the cell in rnn_cell layer to GRU cell and see how it performs. Your number of step should be the same as above."
   ]
  },
  {
   "cell_type": "markdown",
   "metadata": {},
   "source": [
    "**Note: You need to change your saved checkpoints' name or they will rewrite the LSTM results that you have already saved.**"
   ]
  },
  {
   "cell_type": "code",
   "execution_count": 13,
   "metadata": {},
   "outputs": [
    {
     "name": "stdout",
     "output_type": "stream",
     "text": [
      "step: 200  loss: 2.5041  0.2176 sec/batch\n",
      "step: 400  loss: 2.1127  0.2216 sec/batch\n",
      "step: 600  loss: 1.9410  0.2186 sec/batch\n",
      "step: 800  loss: 1.8380  0.2301 sec/batch\n",
      "step: 1000  loss: 1.7607  0.2326 sec/batch\n",
      "step: 1200  loss: 1.6997  0.2279 sec/batch\n",
      "step: 1400  loss: 1.7003  0.2265 sec/batch\n",
      "step: 1600  loss: 1.6225  0.2380 sec/batch\n",
      "step: 1800  loss: 1.6203  0.2276 sec/batch\n",
      "step: 2000  loss: 1.5745  0.2274 sec/batch\n",
      "step: 2200  loss: 1.5443  0.2251 sec/batch\n",
      "step: 2400  loss: 1.5936  0.2277 sec/batch\n",
      "step: 2600  loss: 1.5504  0.2325 sec/batch\n",
      "step: 2800  loss: 1.5406  0.2163 sec/batch\n",
      "step: 3000  loss: 1.5324  0.2291 sec/batch\n",
      "step: 3200  loss: 1.4848  0.2232 sec/batch\n",
      "step: 3400  loss: 1.5186  0.2276 sec/batch\n",
      "step: 3600  loss: 1.4813  0.2301 sec/batch\n",
      "step: 3800  loss: 1.4859  0.2297 sec/batch\n",
      "step: 4000  loss: 1.4651  0.2254 sec/batch\n",
      "step: 4200  loss: 1.5150  0.2241 sec/batch\n",
      "step: 4400  loss: 1.4410  0.2229 sec/batch\n",
      "step: 4600  loss: 1.4781  0.2265 sec/batch\n",
      "step: 4800  loss: 1.4327  0.2207 sec/batch\n",
      "step: 5000  loss: 1.4600  0.2242 sec/batch\n",
      "step: 5200  loss: 1.4915  0.2231 sec/batch\n",
      "step: 5400  loss: 1.4456  0.2276 sec/batch\n",
      "step: 5600  loss: 1.4542  0.2254 sec/batch\n",
      "step: 5800  loss: 1.4735  0.2252 sec/batch\n",
      "step: 6000  loss: 1.4293  0.2297 sec/batch\n"
     ]
    }
   ],
   "source": [
    "model = CharRNN(num_classes=len(vocab), batch_size=batch_size, num_steps=num_steps, cell_type='LSTM',\n",
    "                 rnn_size=rnn_size, num_layers=num_layers, learning_rate=learning_rate, \n",
    "                 grad_clip=5, train_keep_prob=0.6, sampling=False)\n",
    "text_as_int_cropped = text_as_int\n",
    "batches = get_batches(text_as_int_cropped, batch_size, num_steps)\n",
    "model.train(batches,6000 , 1000)"
   ]
  },
  {
   "cell_type": "code",
   "execution_count": 14,
   "metadata": {},
   "outputs": [
    {
     "name": "stdout",
     "output_type": "stream",
     "text": [
      "INFO:tensorflow:Restoring parameters from checkpoints\\i6000_LSTM_l256.ckpt\n",
      "Lord a danger way,\n",
      "And honourable starvers as you seem to,\n",
      "I'll not be bridge, to the craw of this dead,\n",
      "Worse of his brought.\n",
      "I did not have to that when I will have a servant that I\n",
      "have to be some on my son as they have been\n",
      "Within the present sovere thousand mind,\n",
      "To hear me to the sours;\n",
      "The stoop of the woel strew the window and those that stays\n",
      "Of a these head of a charm, the people\n",
      "Of myself anothort with a man of all,\n",
      "A prince, things but a master of you and brought the cursed thee\n",
      "Which time as I would bear to me as thou,\n",
      "And this which hath not hear'st the triand of thee,\n",
      "That this world will be an each of the call.\n",
      "\n",
      "CAPULET:\n",
      "Ay, breathed me but stating where the calms of the peace that he had basily,\n",
      "With standing of a cold of the creature with the commonier shall be breath of all.\n",
      "\n",
      "CAPULET:\n",
      "He shall be thyself too merting is a fearful arms\n",
      "And by the wisdient sorrow and things stands.\n",
      "\n",
      "GLOUCESTER:\n",
      "And heart is no more;\n",
      "And say this sharp suffer'd, and the best should,\n",
      "And break \n"
     ]
    }
   ],
   "source": [
    "model = CharRNN(num_classes=len(vocab), batch_size=batch_size, num_steps=num_steps, cell_type='LSTM',\n",
    "                 rnn_size=rnn_size, num_layers=num_layers, learning_rate=learning_rate, \n",
    "                 grad_clip=5, train_keep_prob=0.5, sampling=True)\n",
    "# choose the last checkpoint and generate new text\n",
    "checkpoint = tf.train.latest_checkpoint('checkpoints')\n",
    "samp = model.sample(checkpoint, 1000, len(vocab), vocab_to_ind, ind_to_vocab, prime=\"Lord \")\n",
    "print(samp)"
   ]
  }
 ],
 "metadata": {
  "kernelspec": {
   "display_name": "Python 3",
   "language": "python",
   "name": "python3"
  },
  "language_info": {
   "codemirror_mode": {
    "name": "ipython",
    "version": 3
   },
   "file_extension": ".py",
   "mimetype": "text/x-python",
   "name": "python",
   "nbconvert_exporter": "python",
   "pygments_lexer": "ipython3",
   "version": "3.7.3"
  },
  "varInspector": {
   "cols": {
    "lenName": 16,
    "lenType": 16,
    "lenVar": 40
   },
   "kernels_config": {
    "python": {
     "delete_cmd_postfix": "",
     "delete_cmd_prefix": "del ",
     "library": "var_list.py",
     "varRefreshCmd": "print(var_dic_list())"
    },
    "r": {
     "delete_cmd_postfix": ") ",
     "delete_cmd_prefix": "rm(",
     "library": "var_list.r",
     "varRefreshCmd": "cat(var_dic_list()) "
    }
   },
   "oldHeight": 397.2,
   "position": {
    "height": "40px",
    "left": "901px",
    "right": "20px",
    "top": "71px",
    "width": "599.8px"
   },
   "types_to_exclude": [
    "module",
    "function",
    "builtin_function_or_method",
    "instance",
    "_Feature"
   ],
   "varInspector_section_display": "none",
   "window_display": true
  }
 },
 "nbformat": 4,
 "nbformat_minor": 2
}
